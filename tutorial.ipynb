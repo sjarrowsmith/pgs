{
 "cells": [
  {
   "cell_type": "markdown",
   "metadata": {},
   "source": [
    "# Tutorial on running pgs\n",
    "\n",
    "Stephen Arrowsmith (sarrowsmith@smu.edu)"
   ]
  },
  {
   "cell_type": "code",
   "execution_count": null,
   "metadata": {},
   "outputs": [],
   "source": [
    "import pgs, datetime, toml, pickle\n",
    "import pandas as pd\n",
    "from obspy import UTCDateTime\n",
    "from pyproj import Geod\n",
    "from matplotlib.dates import date2num, num2date"
   ]
  },
  {
   "cell_type": "markdown",
   "metadata": {},
   "source": [
    "## Creating a synthetic event\n",
    "\n",
    "PGS takes a TOML file as the input. You can make this in a text editor. The following two blocks create a TOML file for a synthetic event, optionally adding perturbations to the synthetic measurements.\n",
    "\n",
    "The parameters are as follows:\n",
    "- model_file: The name of the binary file where predicted traveltimes and backazimuths are stored\n",
    "- earth_model: The name of the Earth model in ObsPy (for built-in options, or instructions on how to build your own, see: https://docs.obspy.org/packages/obspy.taup.html)\n",
    "- bounds: Geographic limits of the grid search\n",
    "- N_lon: Number of grid points in longitude\n",
    "- N_lat: Number of grid points in latitude\n",
    "- N_d: Number of grid points in depth\n",
    "- stnm: Names of stations or arrays\n",
    "- stla: Latitudes of stations or arrays\n",
    "- stlo: Longitudes of stations or arrays\n",
    "- t_start: Start time over which to search\n",
    "- t_end: End time over which to search\n",
    "- N_t: Number of origin times"
   ]
  },
  {
   "cell_type": "code",
   "execution_count": null,
   "metadata": {},
   "outputs": [],
   "source": [
    "config = '''\n",
    "model_file = \"SYNTH1.model\"\n",
    "earth_model = \"ak135\"\n",
    "\n",
    "[grid]\n",
    "bounds = [-97.78, -97.57, 36.57, 36.66, 0.0, 10.0]\n",
    "N_lon = 40\n",
    "N_lat = 40\n",
    "N_d = 20\n",
    "\n",
    "[stations]\n",
    "stnm = ['STN1', 'STN2', 'STN3']\n",
    "stla = [36.6153, 36.617, 36.581]\n",
    "stlo = [-97.733, -97.601, -97.662]\n",
    "\n",
    "[time-grid]\n",
    "t_start = '2016/01/01 11:59:59.500000'\n",
    "t_end = '2016/01/01 12:00:00.500000'\n",
    "N_t = 48\n",
    "'''\n",
    "\n",
    "config = toml.loads(config)"
   ]
  },
  {
   "cell_type": "code",
   "execution_count": null,
   "metadata": {},
   "outputs": [],
   "source": [
    "# Defining source location:\n",
    "evla = 36.635; evlo = -97.714; evdp = 2.\n",
    "evt0 = date2num(datetime.datetime(2016,1,1,12,0,0))\n",
    "\n",
    "# Defining the indices of stations in (1) to use:\n",
    "pgs.compute_predictions(config, evla, evlo, evdp, evt0, std_p=0, std_s=0, std_b=0)"
   ]
  },
  {
   "cell_type": "markdown",
   "metadata": {},
   "source": [
    "## Locating the synthetic event\n",
    "\n",
    "The following set of blocks solve for the event location given a TOML file. The first block reads in the TOML file as the configuration variable config:"
   ]
  },
  {
   "cell_type": "code",
   "execution_count": null,
   "metadata": {},
   "outputs": [],
   "source": [
    "config = toml.load('SYNTH1.toml')"
   ]
  },
  {
   "cell_type": "markdown",
   "metadata": {},
   "source": [
    "Next, we compute the predicted arrival times and backazimuths from all the possible event hypotheses (defined by the latitude, longitude, depth, and time) to all the stations. Depending on the number of grid points used in the search, this could take a while. However, it only needs to be run one time for a single configuration (new events with the same station configuration can be located with the same model file).\n",
    "\n",
    "The parameters are as follows:\n",
    "- del_dist defines the spacing in kilometers between each point on the travel time curve. The smaller this number the greater the accuracy at the cost of computation time."
   ]
  },
  {
   "cell_type": "code",
   "execution_count": null,
   "metadata": {},
   "outputs": [],
   "source": [
    "pgs.make_model_file(config, del_dist=0.1)"
   ]
  },
  {
   "cell_type": "markdown",
   "metadata": {},
   "source": [
    "The next block solves for the likelihood over the full model space. The parameters are as follows:\n",
    "- t_std_in defines the a-priori estimate of the standard deviation in arrival time\n",
    "- b_std_in defines the a-priori estimate of the standard deviation in backazimuth\n",
    "- use_p_in is a Boolean that defines whether to use P-wave arrival times (if available)\n",
    "- use_s_in is a Boolean that defines whether to use S-wave arrival times (if available)\n",
    "- use_b_in is a Boolean that defines whether to use backazimuths (if available)"
   ]
  },
  {
   "cell_type": "code",
   "execution_count": null,
   "metadata": {},
   "outputs": [],
   "source": [
    "likl = pgs.do_location(config, t_std_in=0.2, b_std_in=13, use_p_in=True, use_s_in=True, use_b_in=True)"
   ]
  },
  {
   "cell_type": "markdown",
   "metadata": {},
   "source": [
    "The next block plots the marginal distributions. You may have to play with the variables aspect1 and aspect2 to get the subplots to line up suitably, depending on the dimensions of the search area."
   ]
  },
  {
   "cell_type": "code",
   "execution_count": null,
   "metadata": {},
   "outputs": [],
   "source": [
    "pgs.plot_marginal_distributions(config, likl,\n",
    "                                   aspect1=105, aspect2=0.005,\n",
    "                                   plot_maxlikl=False, plot_true=False,\n",
    "                                   cmap='hot_r', scale_bar_length=1, cred=0.9,\n",
    "                                   do_smoothing=True, smoothing_width=0.5, plot_baz=False)"
   ]
  },
  {
   "cell_type": "markdown",
   "metadata": {},
   "source": [
    "Using backazimuth only"
   ]
  },
  {
   "cell_type": "code",
   "execution_count": null,
   "metadata": {},
   "outputs": [],
   "source": [
    "likl = pgs.do_location(config, t_std_in=0.2, b_std_in=5, use_p_in=True, use_s_in=True, use_b_in=True)"
   ]
  },
  {
   "cell_type": "code",
   "execution_count": null,
   "metadata": {},
   "outputs": [],
   "source": [
    "pgs.plot_marginal_distributions(config, likl,\n",
    "                                   aspect1=105, aspect2=0.005,\n",
    "                                   plot_maxlikl=False, plot_true=False,\n",
    "                                   cmap='hot_r', scale_bar_length=1, cred=0.9,\n",
    "                                   do_smoothing=True, smoothing_width=0.5, plot_baz=True)"
   ]
  },
  {
   "cell_type": "code",
   "execution_count": null,
   "metadata": {},
   "outputs": [],
   "source": []
  }
 ],
 "metadata": {
  "kernelspec": {
   "display_name": "Python 3",
   "language": "python",
   "name": "python3"
  },
  "language_info": {
   "codemirror_mode": {
    "name": "ipython",
    "version": 3
   },
   "file_extension": ".py",
   "mimetype": "text/x-python",
   "name": "python",
   "nbconvert_exporter": "python",
   "pygments_lexer": "ipython3",
   "version": "3.8.5"
  }
 },
 "nbformat": 4,
 "nbformat_minor": 2
}
